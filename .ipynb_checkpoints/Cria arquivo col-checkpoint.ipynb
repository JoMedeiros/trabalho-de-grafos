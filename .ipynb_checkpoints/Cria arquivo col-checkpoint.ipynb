{
 "cells": [
  {
   "cell_type": "code",
   "execution_count": 1,
   "metadata": {},
   "outputs": [],
   "source": [
    "import pandas as pd\n",
    "import networkx as nx"
   ]
  },
  {
   "cell_type": "code",
   "execution_count": 2,
   "metadata": {},
   "outputs": [],
   "source": [
    "turmas = pd.read_csv('Turmas/turmas.csv')\n",
    "# Retira as turmas não atendidas\n",
    "turmas = turmas[turmas[\"Situação\"] == \"Atendida\"]\n",
    "# Reseta os índices do dataFrame\n",
    "turmas = turmas.reset_index().drop('index',axis=1)\n",
    "# Formata a coluna Horário para retirar a data. Ex: \"24T12 (1/1/2018 - 12/12/2018)\" -> \"24T12\"\n",
    "turmas['Horário'] = turmas['Horário'].str.split(expand=True)[0]"
   ]
  },
  {
   "cell_type": "code",
   "execution_count": 3,
   "metadata": {},
   "outputs": [],
   "source": [
    "''' Compara se dois horários tem mesmo turno '''\n",
    "def comp_t(hor1, hor2):\n",
    "    turno = ['M','T','N']\n",
    "    comp_turno = False\n",
    "    for t in turno:\n",
    "        h1 = hor1.find(t)\n",
    "        h2 = hor2.find(t)\n",
    "        if (h1 > 0 and h2 > 0):\n",
    "            return t\n",
    "    return 'F'\n",
    "\n",
    "''' Compara se há confilto entre horários '''\n",
    "def comp(hor1, hor2):\n",
    "    turno = comp_t(hor1, hor2)\n",
    "    if (turno == 'F'):\n",
    "        return False\n",
    "    \n",
    "    w1, h1 = hor1.split(turno)\n",
    "    w2, h2 = hor2.split(turno)\n",
    "    \n",
    "    for d1 in w1:\n",
    "        if (d1 in w2):\n",
    "            for h in h1:\n",
    "                if(h in h2):\n",
    "                    return True\n",
    "    return False"
   ]
  },
  {
   "cell_type": "code",
   "execution_count": 4,
   "metadata": {},
   "outputs": [],
   "source": [
    "g = nx.Graph()\n",
    "#for i in range()\n",
    "#for h1 in turmas['Horário']:\n",
    "#    for h2 in turmas['Horário']\n",
    "n = len(turmas['Horário'])\n",
    "for i in range(n):\n",
    "    for j in range(i, n):\n",
    "        if ((turmas['Horário'][i] != turmas['Horário'][j]) and comp(turmas['Horário'][i], turmas['Horário'][j])):\n",
    "            g.add_edge(i, j)"
   ]
  },
  {
   "cell_type": "code",
   "execution_count": 5,
   "metadata": {},
   "outputs": [],
   "source": [
    "file = open(\"Turmas/turmas.col\", 'w')\n",
    "file.write(\"c FILE: turmas.col\\n\")\n",
    "file.write(\"c SOURCE: SIGAA (UFRN)\\n\")\n",
    "file.write(\"c DESCRIPTION: Gerado a partir das turmas de 2018.2 para TI\\n\")\n",
    "file.write(\"p edge \"+ str(g.number_of_nodes()) + \" \" + str(g.number_of_edges())+'\\n')\n",
    "for line in nx.generate_edgelist(g, data=False):\n",
    "    file.write(\"e \" + line + '\\n')\n",
    "file.close()"
   ]
  }
 ],
 "metadata": {
  "kernelspec": {
   "display_name": "Python 2",
   "language": "python",
   "name": "python2"
  },
  "language_info": {
   "codemirror_mode": {
    "name": "ipython",
    "version": 2
   },
   "file_extension": ".py",
   "mimetype": "text/x-python",
   "name": "python",
   "nbconvert_exporter": "python",
   "pygments_lexer": "ipython2",
   "version": "2.7.15rc1"
  }
 },
 "nbformat": 4,
 "nbformat_minor": 2
}
